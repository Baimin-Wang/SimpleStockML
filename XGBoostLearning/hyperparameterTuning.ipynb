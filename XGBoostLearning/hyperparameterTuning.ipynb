{
 "cells": [
  {
   "cell_type": "code",
   "execution_count": 2,
   "metadata": {},
   "outputs": [],
   "source": [
    "import pandas as pd\n",
    "import numpy as np\n",
    "import xgboost as xgb\n",
    "import matplotlib.pyplot as plt\n",
    "from sklearn.preprocessing import MinMaxScaler\n",
    "from sklearn.metrics import mean_squared_error, mean_absolute_error\n",
    "from xgboost.callback import LearningRateScheduler\n",
    "\n",
    "#from indicators import set_indicators\n",
    "from dataPreprocess import preprocess"
   ]
  },
  {
   "cell_type": "code",
   "execution_count": null,
   "metadata": {},
   "outputs": [
    {
     "name": "stdout",
     "output_type": "stream",
     "text": [
      "加载数据...\n"
     ]
    }
   ],
   "source": [
    "# 1. 加载数据并添加技术指标\n",
    "print(\"加载数据...\")\n",
    "data = pd.read_csv(\"Russell1000AndSP500_withIndicators.csv\")\n",
    "data = preprocess(data)\n",
    "\n",
    "# 2. 保留时序顺序（真实场景中不打乱）\n",
    "# 如果需要随机打乱，请取消下面两行注释\n",
    "# data = data.sample(frac=1.0, random_state=42).reset_index(drop=True)\n",
    "\n",
    "# 3. 定义特征列\n",
    "features = [\n",
    "    'Open', 'High', 'Low', 'Close', 'Volume',\n",
    "    'RSI', 'WR', 'BB_lower', 'BB_middle', 'BB_upper',\n",
    "    'MA5', 'MA10', 'MA20', 'MA50', 'MACD', 'Signal', 'Histogram',\n",
    "    '%K', '%D', '%J', 'ATR', 'OBV', 'ADX', 'DMP', 'DMN',\n",
    "    'StochRSI_k', 'StochRSI_d', 'CCI'\n",
    "] + [f'lag_{i}' for i in range(1, 16)]\n",
    "\n",
    "# 去除缺失数据\n",
    "data.dropna(subset=features + ['pct_chg'], inplace=True)\n",
    "\n",
    "# 4. 特征归一化（可选）\n",
    "scaler = MinMaxScaler()\n",
    "data[features] = scaler.fit_transform(data[features])\n",
    "\n",
    "# 5. 构造训练集和测试集（保留时序）\n",
    "X = data[features].astype(np.float32)\n",
    "y = data['pct_chg'].astype(np.float32)\n",
    "\n",
    "split = int(0.8 * len(data))  # 80%训练，20%测试\n",
    "X_train, X_test = X.iloc[:split], X.iloc[split:]\n",
    "y_train, y_test = y.iloc[:split], y.iloc[split:]\n",
    "\n",
    "# 创建 DMatrix 格式\n",
    "dtrain = xgb.DMatrix(X_train, label=y_train)\n",
    "dtest = xgb.DMatrix(X_test, label=y_test)"
   ]
  },
  {
   "cell_type": "code",
   "execution_count": 4,
   "metadata": {},
   "outputs": [],
   "source": [
    "# 6. 定义模型参数\n",
    "params = {\n",
    "    \"max_depth\": 4,\n",
    "    \"objective\": \"reg:squarederror\",\n",
    "    \"tree_method\": \"hist\",\n",
    "    \"eval_metric\": \"rmse\",\n",
    "    \"reg_alpha\": 1.7,\n",
    "    \"reg_lambda\": 5.0,\n",
    "    \"seed\": 42,\n",
    "    \"subsample\": 0.9,\n",
    "    \"colsample_bytree\": 0.9\n",
    "}"
   ]
  },
  {
   "cell_type": "code",
   "execution_count": 5,
   "metadata": {},
   "outputs": [],
   "source": [
    "# 7. 定义学习率衰减函数\n",
    "# 初始学习率设为 0.4，每 5 轮乘以 0.98 衰减一次\n",
    "def lr_decay(epoch):\n",
    "    if epoch < 150:\n",
    "        lr = 0.55 * (0.98 ** (epoch // 8))\n",
    "    elif epoch < 250:\n",
    "        lr = 0.5 * (0.98 ** (epoch % 6))\n",
    "    elif epoch < 700:\n",
    "        lr = 0.5 * (0.98 ** (epoch // 10))\n",
    "    else:\n",
    "        lr = 0.3 * (0.97 ** (epoch // 6))\n",
    "    return lr"
   ]
  },
  {
   "cell_type": "code",
   "execution_count": null,
   "metadata": {},
   "outputs": [
    {
     "name": "stdout",
     "output_type": "stream",
     "text": [
      "开始训练...\n"
     ]
    }
   ],
   "source": [
    "# 8. 训练模型\n",
    "evals = [(dtrain, \"train\"), (dtest, \"test\")]\n",
    "evals_result = {}  # 用于存储评估结果\n",
    "print(\"开始训练...\")\n",
    "bst = xgb.train(\n",
    "    params,\n",
    "    dtrain,\n",
    "    num_boost_round=2000,\n",
    "    early_stopping_rounds = 80,\n",
    "    evals=evals,\n",
    "    evals_result=evals_result,  # 传入一个空字典来记录评估结果\n",
    "    callbacks=[LearningRateScheduler(lr_decay)]\n",
    ")\n",
    "\n",
    "# 9. 绘制损失曲线，直接使用 evals_result 字典\n",
    "train_rmse = evals_result['train']['rmse']\n",
    "test_rmse = evals_result['test']['rmse']\n",
    "epochs = list(range(1, len(train_rmse) + 1))\n",
    "\n",
    "plt.figure(figsize=(10, 6))\n",
    "plt.plot(epochs, train_rmse, label='Train RMSE')\n",
    "plt.plot(epochs, test_rmse, label='Test RMSE')\n",
    "plt.xlabel('Iteration')\n",
    "plt.ylabel('RMSE')\n",
    "plt.title('Iteration vs. Loss (RMSE) with Learning Rate Decay')\n",
    "plt.legend()\n",
    "plt.show()\n",
    "\n",
    "# 10. 模型预测与评估\n",
    "y_pred = bst.predict(dtest)\n",
    "mse = mean_squared_error(y_test, y_pred)\n",
    "mae = mean_absolute_error(y_test, y_pred)\n",
    "print(f\"Test MSE: {mse:.4f}\")\n",
    "print(f\"Test MAE: {mae:.4f}\")"
   ]
  }
 ],
 "metadata": {
  "kernelspec": {
   "display_name": "windowsEnv",
   "language": "python",
   "name": "python3"
  },
  "language_info": {
   "codemirror_mode": {
    "name": "ipython",
    "version": 3
   },
   "file_extension": ".py",
   "mimetype": "text/x-python",
   "name": "python",
   "nbconvert_exporter": "python",
   "pygments_lexer": "ipython3",
   "version": "3.10.0"
  }
 },
 "nbformat": 4,
 "nbformat_minor": 2
}
